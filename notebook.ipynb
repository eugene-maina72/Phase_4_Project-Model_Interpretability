{
 "cells": [
  {
   "cell_type": "markdown",
   "id": "3d2cdbf0",
   "metadata": {},
   "source": [
    "# PHASE 4 PROJECT - CITY OF CHICAGO ACCIDENTS .\n",
    "\n",
    "**Author** : Eugene Maina, Beryl Okelo, Beth Nyambura."
   ]
  },
  {
   "cell_type": "markdown",
   "id": "52fc04e3",
   "metadata": {},
   "source": [
    "## OVERVIEW"
   ]
  },
  {
   "cell_type": "markdown",
   "id": "d776818d",
   "metadata": {},
   "source": [
    "### Business Problem and Stakeholders."
   ]
  },
  {
   "cell_type": "markdown",
   "id": "8572d677",
   "metadata": {},
   "source": [
    "* The City of chicago Traffic safety board would like to gain further insights of the primary contributory causes of road accidents in the city to help develop targeted interventions.The objective is to build a model that can predict the primary contributory cause of a car accident, given information about the car, the people in the car, the road conditions etc.\n",
    "\n",
    "* The overall main business questions are:\n",
    "\n",
    "1. What are the top 10 primary contributors of road accidents?\n",
    "2. What accidents cause the most fatalities?\n",
    "3. What period do accidents commonly occur by month?"
   ]
  },
  {
   "cell_type": "markdown",
   "id": "a53c02a6",
   "metadata": {},
   "source": [
    "## DATA UNDERSTANDING"
   ]
  },
  {
   "cell_type": "markdown",
   "id": "515b8778",
   "metadata": {},
   "source": [
    "* First step is to load the necessary dependencies and the dataset that will be used to achieve this objective."
   ]
  },
  {
   "cell_type": "code",
   "execution_count": 2,
   "id": "42a99790",
   "metadata": {},
   "outputs": [],
   "source": [
    "# Importing the necessary dependencies.\n",
    "# Base dependencies.\n",
    "import pandas as pd\n",
    "import numpy as np\n",
    "import matplotlib.pyplot as plt\n",
    "import seaborn as sns\n",
    "import statsmodels.api as sm\n",
    "\n",
    "# Setting the style of the plots\n",
    "sns.set_style('darkgrid', {'axes.facecolor': '0.9'})\n",
    "\n",
    "# Machine learning dependencies\n",
    "from sklearn.preprocessing import OneHotEncoder, MinMaxScaler, StandardScaler\n",
    "from sklearn.feature_selection import RFE, RFE\n",
    "from sklearn.model_selection import train_test_split, cross_val_score\n",
    "from sklearn.pipeline import Pipeline\n",
    "from sklearn.metrics import classification_report, roc_curve, auc, confusion_matrix, ConfusionMatrixDisplay\n",
    "from sklearn.tree import DecisionTreeClassifier\n",
    "\n",
    "#Imbalancing dependencies\n",
    "\n",
    "from imblearn.over_sampling import SMOTE\n",
    "\n"
   ]
  },
  {
   "cell_type": "code",
   "execution_count": null,
   "id": "4405ed92",
   "metadata": {},
   "outputs": [],
   "source": []
  },
  {
   "cell_type": "markdown",
   "id": "87c5aead",
   "metadata": {},
   "source": [
    "**Understanding and describing the data.**"
   ]
  },
  {
   "cell_type": "markdown",
   "id": "becc132a",
   "metadata": {},
   "source": [
    "## DATA PREPARATION"
   ]
  },
  {
   "cell_type": "markdown",
   "id": "f7cb2d52",
   "metadata": {},
   "source": [
    "### Data Cleaning and Feature Engineering."
   ]
  },
  {
   "cell_type": "markdown",
   "id": "51ff9b05",
   "metadata": {},
   "source": [
    "## DATA MODELLING"
   ]
  },
  {
   "cell_type": "markdown",
   "id": "74babbd8",
   "metadata": {},
   "source": [
    "## EVALUATION"
   ]
  },
  {
   "cell_type": "markdown",
   "id": "c404a45f",
   "metadata": {},
   "source": [
    "## CONCLUSIONS"
   ]
  },
  {
   "cell_type": "markdown",
   "id": "954dc804",
   "metadata": {},
   "source": [
    "**General Recommendations**\n",
    "\n",
    "**Best Model**\n",
    "\n",
    "**Nest Steps**"
   ]
  }
 ],
 "metadata": {
  "kernelspec": {
   "display_name": "base",
   "language": "python",
   "name": "python3"
  },
  "language_info": {
   "codemirror_mode": {
    "name": "ipython",
    "version": 3
   },
   "file_extension": ".py",
   "mimetype": "text/x-python",
   "name": "python",
   "nbconvert_exporter": "python",
   "pygments_lexer": "ipython3",
   "version": "3.12.7"
  }
 },
 "nbformat": 4,
 "nbformat_minor": 5
}
