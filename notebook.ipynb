{
 "cells": [
  {
   "cell_type": "markdown",
   "id": "3d2cdbf0",
   "metadata": {},
   "source": [
    "# PHASE 4 PROJECT - CITY OF CHICAGO ACCIDENTS .\n",
    "\n",
    "**Author** : Eugene Maina, Beryl Okelo, Beth Nyambura."
   ]
  },
  {
   "cell_type": "markdown",
   "id": "52fc04e3",
   "metadata": {},
   "source": [
    "## OVERVIEW"
   ]
  },
  {
   "cell_type": "markdown",
   "id": "d776818d",
   "metadata": {},
   "source": [
    "### Business Problem and Stakeholders."
   ]
  },
  {
   "cell_type": "markdown",
   "id": "a53c02a6",
   "metadata": {},
   "source": [
    "## DATA UNDERSTANDING"
   ]
  },
  {
   "cell_type": "markdown",
   "id": "87c5aead",
   "metadata": {},
   "source": [
    "**Understanding and describing the data.**"
   ]
  },
  {
   "cell_type": "markdown",
   "id": "becc132a",
   "metadata": {},
   "source": [
    "## DATA PREPARATION"
   ]
  },
  {
   "cell_type": "markdown",
   "id": "f7cb2d52",
   "metadata": {},
   "source": [
    "### Data Cleaning and Feature Engineering."
   ]
  },
  {
   "cell_type": "markdown",
   "id": "51ff9b05",
   "metadata": {},
   "source": [
    "## DATA MODELLING"
   ]
  },
  {
   "cell_type": "markdown",
   "id": "74babbd8",
   "metadata": {},
   "source": [
    "## EVALUATION"
   ]
  },
  {
   "cell_type": "markdown",
   "id": "c404a45f",
   "metadata": {},
   "source": [
    "## CONCLUSIONS"
   ]
  },
  {
   "cell_type": "markdown",
   "id": "954dc804",
   "metadata": {},
   "source": [
    "**General Recommendations**\n",
    "\n",
    "**Best Model**\n",
    "\n",
    "**Nest Steps**"
   ]
  }
 ],
 "metadata": {
  "kernelspec": {
   "display_name": "base",
   "language": "python",
   "name": "python3"
  },
  "language_info": {
   "name": "python",
   "version": "3.12.7"
  }
 },
 "nbformat": 4,
 "nbformat_minor": 5
}
